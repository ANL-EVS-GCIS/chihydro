{
 "cells": [
  {
   "cell_type": "code",
   "execution_count": 1,
   "metadata": {},
   "outputs": [
    {
     "name": "stdout",
     "output_type": "stream",
     "text": [
      "\n",
      "## You are using the Python ARM Radar Toolkit (Py-ART), an open source\n",
      "## library for working with weather radar data. Py-ART is partly\n",
      "## supported by the U.S. Department of Energy as part of the Atmospheric\n",
      "## Radiation Measurement (ARM) Climate Research Facility, an Office of\n",
      "## Science user facility.\n",
      "##\n",
      "## If you use this software to prepare a publication, please cite:\n",
      "##\n",
      "##     JJ Helmus and SM Collis, JORS 2016, doi: 10.5334/jors.119\n",
      "\n"
     ]
    }
   ],
   "source": [
    "import pyart\n",
    "import wradlib as wrl\n",
    "import pandas as pd\n",
    "import tempfile\n",
    "import os\n",
    "import numpy as np\n",
    "import matplotlib.pyplot as plt\n",
    "\n",
    "import sys\n",
    "\n",
    "import pytz\n",
    "import datetime as dt\n",
    "\n",
    "import warnings\n",
    "warnings.filterwarnings(\"ignore\")"
   ]
  },
  {
   "cell_type": "code",
   "execution_count": 3,
   "metadata": {},
   "outputs": [],
   "source": [
    "datestr = '2013/04/17'\n",
    "#datestr = sys.argv[1]\n",
    "\n",
    "path_radarfiles = '/lcrc/group/earthscience/icrisologo/diff_retrievals_processed/'+datestr\n",
    "\n",
    "rr_retrieval_methods = ['rainrate','rainrate_from_kdp','rainrate_from_attenuation','rainrate_z_RT','rainrate_z_MP','rainrate_z_WC']\n",
    "\n",
    "savepath = '/lcrc/group/earthscience/icrisologo/SAVEUR/gridded'\n",
    "\n",
    "\n",
    "\n",
    "flist = os.listdir(path_radarfiles)\n",
    "flist.sort()\n"
   ]
  },
  {
   "cell_type": "code",
   "execution_count": 4,
   "metadata": {},
   "outputs": [],
   "source": [
    "# create an empty dictionary\n",
    "fname_dict = {}\n",
    "for i in range(1,25,1):\n",
    "    fname_dict[i] = []\n",
    "# fill in dictionary\n",
    "for i in range(len(flist)):\n",
    "    #fname = keys[i].rsplit('/',1)[-1].strip('.nc')\n",
    "    dtime_utc = dt.datetime.strptime(flist[i],'radar_KLOT_%Y%m%d_%H%M%S.nc')\n",
    "    fname_dict[dtime_utc.hour+1].append(flist[i])"
   ]
  },
  {
   "cell_type": "code",
   "execution_count": 5,
   "metadata": {},
   "outputs": [],
   "source": [
    "# Get time intervals average every hour\n",
    "timediff_ave = {}\n",
    "for i in range(1,25,1):\n",
    "    timediff_ave[i] = []\n",
    "for hour in list(fname_dict):\n",
    "    timelist = []\n",
    "    timediff = []\n",
    "    fnames_within_hour = fname_dict[hour]\n",
    "    for fname in fnames_within_hour:\n",
    "        dtime_utc = dt.datetime.strptime(fname,'radar_KLOT_%Y%m%d_%H%M%S.nc')\n",
    "        timelist.append(dtime_utc)\n",
    "    for tdiff in np.diff(timelist):\n",
    "        timediff.append(np.diff(timelist)[0].seconds)\n",
    "    timediff_ave[hour] = np.mean(timediff)"
   ]
  },
  {
   "cell_type": "code",
   "execution_count": 6,
   "metadata": {},
   "outputs": [
    {
     "name": "stdout",
     "output_type": "stream",
     "text": [
      "Hour:  1\n",
      "radar_KLOT_20130417_000444.nc:radar_KLOT_20130417_001029.nc:radar_KLOT_20130417_001615.nc:radar_KLOT_20130417_002201.nc:radar_KLOT_20130417_002746.nc:radar_KLOT_20130417_003331.nc:radar_KLOT_20130417_003916.nc:radar_KLOT_20130417_004500.nc:radar_KLOT_20130417_005048.nc:radar_KLOT_20130417_005633.nc:Hour:  2\n",
      "radar_KLOT_20130417_010220.nc:radar_KLOT_20130417_010806.nc:radar_KLOT_20130417_011350.nc:radar_KLOT_20130417_012138.nc:radar_KLOT_20130417_012724.nc:radar_KLOT_20130417_013311.nc:radar_KLOT_20130417_013856.nc:radar_KLOT_20130417_014442.nc:radar_KLOT_20130417_015026.nc:radar_KLOT_20130417_015613.nc:Hour:  3\n",
      "radar_KLOT_20130417_020158.nc:radar_KLOT_20130417_020744.nc:radar_KLOT_20130417_021331.nc:radar_KLOT_20130417_021916.nc:radar_KLOT_20130417_022504.nc:radar_KLOT_20130417_023051.nc:radar_KLOT_20130417_023637.nc:radar_KLOT_20130417_024223.nc:radar_KLOT_20130417_024811.nc:radar_KLOT_20130417_025358.nc:radar_KLOT_20130417_025946.nc:Hour:  4\n",
      "radar_KLOT_20130417_030533.nc:radar_KLOT_20130417_031119.nc:radar_KLOT_20130417_031705.nc:radar_KLOT_20130417_032254.nc:radar_KLOT_20130417_032840.nc:radar_KLOT_20130417_033427.nc:radar_KLOT_20130417_034015.nc:radar_KLOT_20130417_034602.nc:radar_KLOT_20130417_035148.nc:radar_KLOT_20130417_035734.nc:Hour:  5\n",
      "radar_KLOT_20130417_040323.nc:radar_KLOT_20130417_040909.nc:radar_KLOT_20130417_041458.nc:radar_KLOT_20130417_042046.nc:radar_KLOT_20130417_042632.nc:radar_KLOT_20130417_043219.nc:radar_KLOT_20130417_043807.nc:radar_KLOT_20130417_044356.nc:radar_KLOT_20130417_044946.nc:radar_KLOT_20130417_045535.nc:Hour:  6\n",
      "radar_KLOT_20130417_050122.nc:radar_KLOT_20130417_050711.nc:radar_KLOT_20130417_051257.nc:radar_KLOT_20130417_051844.nc:radar_KLOT_20130417_052433.nc:radar_KLOT_20130417_053021.nc:radar_KLOT_20130417_053609.nc:radar_KLOT_20130417_054156.nc:radar_KLOT_20130417_054744.nc:radar_KLOT_20130417_055333.nc:radar_KLOT_20130417_055921.nc:Hour:  7\n",
      "radar_KLOT_20130417_060509.nc:radar_KLOT_20130417_061057.nc:radar_KLOT_20130417_061645.nc:radar_KLOT_20130417_062233.nc:radar_KLOT_20130417_062820.nc:radar_KLOT_20130417_063409.nc:radar_KLOT_20130417_063959.nc:radar_KLOT_20130417_064546.nc:radar_KLOT_20130417_065133.nc:radar_KLOT_20130417_065717.nc:Hour:  8\n",
      "radar_KLOT_20130417_070305.nc:radar_KLOT_20130417_070853.nc:radar_KLOT_20130417_071439.nc:radar_KLOT_20130417_072027.nc:radar_KLOT_20130417_072615.nc:radar_KLOT_20130417_073203.nc:radar_KLOT_20130417_073750.nc:radar_KLOT_20130417_074338.nc:radar_KLOT_20130417_074924.nc:radar_KLOT_20130417_075512.nc:Hour:  9\n",
      "radar_KLOT_20130417_080058.nc:radar_KLOT_20130417_080645.nc:radar_KLOT_20130417_081234.nc:radar_KLOT_20130417_081820.nc:radar_KLOT_20130417_082408.nc:radar_KLOT_20130417_082955.nc:radar_KLOT_20130417_083545.nc:radar_KLOT_20130417_084133.nc:radar_KLOT_20130417_084720.nc:radar_KLOT_20130417_085309.nc:radar_KLOT_20130417_085855.nc:Hour:  10\n",
      "radar_KLOT_20130417_090441.nc:radar_KLOT_20130417_091029.nc:radar_KLOT_20130417_091614.nc:radar_KLOT_20130417_092407.nc:radar_KLOT_20130417_092954.nc:radar_KLOT_20130417_093543.nc:radar_KLOT_20130417_094130.nc:radar_KLOT_20130417_094719.nc:radar_KLOT_20130417_095308.nc:radar_KLOT_20130417_095855.nc:Hour:  11\n",
      "radar_KLOT_20130417_100442.nc:radar_KLOT_20130417_101031.nc:radar_KLOT_20130417_101615.nc:radar_KLOT_20130417_102202.nc:radar_KLOT_20130417_102747.nc:radar_KLOT_20130417_103337.nc:radar_KLOT_20130417_103925.nc:radar_KLOT_20130417_104147.nc:radar_KLOT_20130417_104643.nc:radar_KLOT_20130417_105139.nc:radar_KLOT_20130417_105634.nc:Hour:  12\n",
      "radar_KLOT_20130417_110130.nc:radar_KLOT_20130417_110625.nc:radar_KLOT_20130417_111121.nc:radar_KLOT_20130417_111618.nc:radar_KLOT_20130417_112114.nc:radar_KLOT_20130417_112609.nc:radar_KLOT_20130417_113106.nc:radar_KLOT_20130417_113600.nc:radar_KLOT_20130417_114057.nc:radar_KLOT_20130417_114553.nc:radar_KLOT_20130417_115048.nc:radar_KLOT_20130417_115543.nc:Hour:  13\n",
      "radar_KLOT_20130417_120038.nc:radar_KLOT_20130417_120518.nc:radar_KLOT_20130417_120956.nc:radar_KLOT_20130417_121437.nc:radar_KLOT_20130417_121915.nc:radar_KLOT_20130417_122353.nc:radar_KLOT_20130417_122833.nc:radar_KLOT_20130417_123312.nc:radar_KLOT_20130417_123750.nc:radar_KLOT_20130417_124229.nc:radar_KLOT_20130417_124708.nc:radar_KLOT_20130417_125146.nc:radar_KLOT_20130417_125624.nc:Hour:  14\n",
      "radar_KLOT_20130417_130103.nc:radar_KLOT_20130417_130542.nc:radar_KLOT_20130417_131021.nc:radar_KLOT_20130417_131500.nc:radar_KLOT_20130417_131940.nc:radar_KLOT_20130417_132418.nc:radar_KLOT_20130417_132856.nc:radar_KLOT_20130417_133335.nc:radar_KLOT_20130417_133814.nc:radar_KLOT_20130417_134251.nc:radar_KLOT_20130417_134732.nc:radar_KLOT_20130417_135211.nc:radar_KLOT_20130417_135648.nc:Hour:  15\n",
      "radar_KLOT_20130417_140126.nc:radar_KLOT_20130417_140603.nc:radar_KLOT_20130417_141041.nc:radar_KLOT_20130417_141519.nc:radar_KLOT_20130417_141956.nc:radar_KLOT_20130417_142434.nc:radar_KLOT_20130417_142913.nc:radar_KLOT_20130417_143351.nc:radar_KLOT_20130417_143828.nc:radar_KLOT_20130417_144306.nc:radar_KLOT_20130417_144744.nc:radar_KLOT_20130417_145223.nc:radar_KLOT_20130417_145705.nc:Hour:  16\n",
      "radar_KLOT_20130417_150144.nc:radar_KLOT_20130417_150621.nc:radar_KLOT_20130417_151059.nc:radar_KLOT_20130417_151536.nc:radar_KLOT_20130417_152015.nc:radar_KLOT_20130417_152454.nc:radar_KLOT_20130417_152932.nc:radar_KLOT_20130417_153410.nc:radar_KLOT_20130417_153849.nc:radar_KLOT_20130417_154327.nc:radar_KLOT_20130417_154805.nc:radar_KLOT_20130417_155244.nc:radar_KLOT_20130417_155721.nc:Hour:  17\n",
      "radar_KLOT_20130417_160200.nc:radar_KLOT_20130417_160639.nc:"
     ]
    },
    {
     "ename": "KeyboardInterrupt",
     "evalue": "",
     "output_type": "error",
     "traceback": [
      "\u001b[0;31m---------------------------------------------------------------------------\u001b[0m",
      "\u001b[0;31mKeyboardInterrupt\u001b[0m                         Traceback (most recent call last)",
      "\u001b[0;32m<ipython-input-6-6d96cd6d0908>\u001b[0m in \u001b[0;36m<module>\u001b[0;34m\u001b[0m\n\u001b[1;32m     18\u001b[0m \u001b[0;34m\u001b[0m\u001b[0m\n\u001b[1;32m     19\u001b[0m         \u001b[0;31m# read to radar object using pyart\u001b[0m\u001b[0;34m\u001b[0m\u001b[0;34m\u001b[0m\u001b[0;34m\u001b[0m\u001b[0m\n\u001b[0;32m---> 20\u001b[0;31m         \u001b[0mradar\u001b[0m \u001b[0;34m=\u001b[0m \u001b[0mpyart\u001b[0m\u001b[0;34m.\u001b[0m\u001b[0mio\u001b[0m\u001b[0;34m.\u001b[0m\u001b[0mread_cfradial\u001b[0m\u001b[0;34m(\u001b[0m\u001b[0mos\u001b[0m\u001b[0;34m.\u001b[0m\u001b[0mpath\u001b[0m\u001b[0;34m.\u001b[0m\u001b[0mjoin\u001b[0m\u001b[0;34m(\u001b[0m\u001b[0mpath_radarfiles\u001b[0m\u001b[0;34m,\u001b[0m\u001b[0mfname\u001b[0m\u001b[0;34m)\u001b[0m\u001b[0;34m)\u001b[0m\u001b[0;34m\u001b[0m\u001b[0;34m\u001b[0m\u001b[0m\n\u001b[0m\u001b[1;32m     21\u001b[0m \u001b[0;34m\u001b[0m\u001b[0m\n\u001b[1;32m     22\u001b[0m \u001b[0;31m#         # Mask out last 10 gates of each ray, this removes the \"ring\" around the radar.\u001b[0m\u001b[0;34m\u001b[0m\u001b[0;34m\u001b[0m\u001b[0;34m\u001b[0m\u001b[0m\n",
      "\u001b[0;32m~/anaconda3/envs/rainfall/lib/python3.9/site-packages/pyart/io/cfradial.py\u001b[0m in \u001b[0;36mread_cfradial\u001b[0;34m(filename, field_names, additional_metadata, file_field_names, exclude_fields, include_fields, delay_field_loading, **kwargs)\u001b[0m\n\u001b[1;32m    279\u001b[0m             \u001b[0;32melse\u001b[0m\u001b[0;34m:\u001b[0m\u001b[0;34m\u001b[0m\u001b[0;34m\u001b[0m\u001b[0m\n\u001b[1;32m    280\u001b[0m                 \u001b[0;32mcontinue\u001b[0m\u001b[0;34m\u001b[0m\u001b[0;34m\u001b[0m\u001b[0m\n\u001b[0;32m--> 281\u001b[0;31m         \u001b[0mfields\u001b[0m\u001b[0;34m[\u001b[0m\u001b[0mfield_name\u001b[0m\u001b[0;34m]\u001b[0m \u001b[0;34m=\u001b[0m \u001b[0m_ncvar_to_dict\u001b[0m\u001b[0;34m(\u001b[0m\u001b[0mncvars\u001b[0m\u001b[0;34m[\u001b[0m\u001b[0mkey\u001b[0m\u001b[0;34m]\u001b[0m\u001b[0;34m,\u001b[0m \u001b[0mdelay_field_loading\u001b[0m\u001b[0;34m)\u001b[0m\u001b[0;34m\u001b[0m\u001b[0;34m\u001b[0m\u001b[0m\n\u001b[0m\u001b[1;32m    282\u001b[0m \u001b[0;34m\u001b[0m\u001b[0m\n\u001b[1;32m    283\u001b[0m     \u001b[0;32mif\u001b[0m \u001b[0;34m'ray_n_gates'\u001b[0m \u001b[0;32min\u001b[0m \u001b[0mncvars\u001b[0m\u001b[0;34m:\u001b[0m\u001b[0;34m\u001b[0m\u001b[0;34m\u001b[0m\u001b[0m\n",
      "\u001b[0;32m~/anaconda3/envs/rainfall/lib/python3.9/site-packages/pyart/io/cfradial.py\u001b[0m in \u001b[0;36m_ncvar_to_dict\u001b[0;34m(ncvar, lazydict)\u001b[0m\n\u001b[1;32m    342\u001b[0m         \u001b[0md\u001b[0m\u001b[0;34m.\u001b[0m\u001b[0mset_lazy\u001b[0m\u001b[0;34m(\u001b[0m\u001b[0;34m'data'\u001b[0m\u001b[0;34m,\u001b[0m \u001b[0mdata_extractor\u001b[0m\u001b[0;34m)\u001b[0m\u001b[0;34m\u001b[0m\u001b[0;34m\u001b[0m\u001b[0m\n\u001b[1;32m    343\u001b[0m     \u001b[0;32melse\u001b[0m\u001b[0;34m:\u001b[0m\u001b[0;34m\u001b[0m\u001b[0;34m\u001b[0m\u001b[0m\n\u001b[0;32m--> 344\u001b[0;31m         \u001b[0md\u001b[0m\u001b[0;34m[\u001b[0m\u001b[0;34m'data'\u001b[0m\u001b[0;34m]\u001b[0m \u001b[0;34m=\u001b[0m \u001b[0mdata_extractor\u001b[0m\u001b[0;34m(\u001b[0m\u001b[0;34m)\u001b[0m\u001b[0;34m\u001b[0m\u001b[0;34m\u001b[0m\u001b[0m\n\u001b[0m\u001b[1;32m    345\u001b[0m     \u001b[0;32mreturn\u001b[0m \u001b[0md\u001b[0m\u001b[0;34m\u001b[0m\u001b[0;34m\u001b[0m\u001b[0m\n\u001b[1;32m    346\u001b[0m \u001b[0;34m\u001b[0m\u001b[0m\n",
      "\u001b[0;32m~/anaconda3/envs/rainfall/lib/python3.9/site-packages/pyart/io/cfradial.py\u001b[0m in \u001b[0;36m__call__\u001b[0;34m(self)\u001b[0m\n\u001b[1;32m    363\u001b[0m     \u001b[0;32mdef\u001b[0m \u001b[0m__call__\u001b[0m\u001b[0;34m(\u001b[0m\u001b[0mself\u001b[0m\u001b[0;34m)\u001b[0m\u001b[0;34m:\u001b[0m\u001b[0;34m\u001b[0m\u001b[0;34m\u001b[0m\u001b[0m\n\u001b[1;32m    364\u001b[0m         \u001b[0;34m\"\"\" Return an array containing data from the stored variable. \"\"\"\u001b[0m\u001b[0;34m\u001b[0m\u001b[0;34m\u001b[0m\u001b[0m\n\u001b[0;32m--> 365\u001b[0;31m         \u001b[0mdata\u001b[0m \u001b[0;34m=\u001b[0m \u001b[0mself\u001b[0m\u001b[0;34m.\u001b[0m\u001b[0mncvar\u001b[0m\u001b[0;34m[\u001b[0m\u001b[0;34m:\u001b[0m\u001b[0;34m]\u001b[0m\u001b[0;34m\u001b[0m\u001b[0;34m\u001b[0m\u001b[0m\n\u001b[0m\u001b[1;32m    366\u001b[0m         \u001b[0;32mif\u001b[0m \u001b[0mdata\u001b[0m \u001b[0;32mis\u001b[0m \u001b[0mnp\u001b[0m\u001b[0;34m.\u001b[0m\u001b[0mma\u001b[0m\u001b[0;34m.\u001b[0m\u001b[0mmasked\u001b[0m\u001b[0;34m:\u001b[0m\u001b[0;34m\u001b[0m\u001b[0;34m\u001b[0m\u001b[0m\n\u001b[1;32m    367\u001b[0m             \u001b[0;31m# If the data is a masked scalar, MaskedConstant is returned by\u001b[0m\u001b[0;34m\u001b[0m\u001b[0;34m\u001b[0m\u001b[0;34m\u001b[0m\u001b[0m\n",
      "\u001b[0;32msrc/netCDF4/_netCDF4.pyx\u001b[0m in \u001b[0;36mnetCDF4._netCDF4.Variable.__getitem__\u001b[0;34m()\u001b[0m\n",
      "\u001b[0;32msrc/netCDF4/_netCDF4.pyx\u001b[0m in \u001b[0;36mnetCDF4._netCDF4.Variable._toma\u001b[0;34m()\u001b[0m\n",
      "\u001b[0;32m~/anaconda3/envs/rainfall/lib/python3.9/site-packages/numpy/core/_methods.py\u001b[0m in \u001b[0;36m_any\u001b[0;34m(a, axis, dtype, out, keepdims, where)\u001b[0m\n\u001b[1;32m     51\u001b[0m     \u001b[0;32mreturn\u001b[0m \u001b[0mumr_prod\u001b[0m\u001b[0;34m(\u001b[0m\u001b[0ma\u001b[0m\u001b[0;34m,\u001b[0m \u001b[0maxis\u001b[0m\u001b[0;34m,\u001b[0m \u001b[0mdtype\u001b[0m\u001b[0;34m,\u001b[0m \u001b[0mout\u001b[0m\u001b[0;34m,\u001b[0m \u001b[0mkeepdims\u001b[0m\u001b[0;34m,\u001b[0m \u001b[0minitial\u001b[0m\u001b[0;34m,\u001b[0m \u001b[0mwhere\u001b[0m\u001b[0;34m)\u001b[0m\u001b[0;34m\u001b[0m\u001b[0;34m\u001b[0m\u001b[0m\n\u001b[1;32m     52\u001b[0m \u001b[0;34m\u001b[0m\u001b[0m\n\u001b[0;32m---> 53\u001b[0;31m \u001b[0;32mdef\u001b[0m \u001b[0m_any\u001b[0m\u001b[0;34m(\u001b[0m\u001b[0ma\u001b[0m\u001b[0;34m,\u001b[0m \u001b[0maxis\u001b[0m\u001b[0;34m=\u001b[0m\u001b[0;32mNone\u001b[0m\u001b[0;34m,\u001b[0m \u001b[0mdtype\u001b[0m\u001b[0;34m=\u001b[0m\u001b[0;32mNone\u001b[0m\u001b[0;34m,\u001b[0m \u001b[0mout\u001b[0m\u001b[0;34m=\u001b[0m\u001b[0;32mNone\u001b[0m\u001b[0;34m,\u001b[0m \u001b[0mkeepdims\u001b[0m\u001b[0;34m=\u001b[0m\u001b[0;32mFalse\u001b[0m\u001b[0;34m,\u001b[0m \u001b[0;34m*\u001b[0m\u001b[0;34m,\u001b[0m \u001b[0mwhere\u001b[0m\u001b[0;34m=\u001b[0m\u001b[0;32mTrue\u001b[0m\u001b[0;34m)\u001b[0m\u001b[0;34m:\u001b[0m\u001b[0;34m\u001b[0m\u001b[0;34m\u001b[0m\u001b[0m\n\u001b[0m\u001b[1;32m     54\u001b[0m     \u001b[0;31m# Parsing keyword arguments is currently fairly slow, so avoid it for now\u001b[0m\u001b[0;34m\u001b[0m\u001b[0;34m\u001b[0m\u001b[0;34m\u001b[0m\u001b[0m\n\u001b[1;32m     55\u001b[0m     \u001b[0;32mif\u001b[0m \u001b[0mwhere\u001b[0m \u001b[0;32mis\u001b[0m \u001b[0;32mTrue\u001b[0m\u001b[0;34m:\u001b[0m\u001b[0;34m\u001b[0m\u001b[0;34m\u001b[0m\u001b[0m\n",
      "\u001b[0;31mKeyboardInterrupt\u001b[0m: "
     ]
    }
   ],
   "source": [
    "# For every hour in the list, get the filenames associated with that hour and loop through the files. Read each file, \n",
    "# convert reflectivity to rain rate, and convert rain rate to rain amount. Add these rain amounts for \n",
    "# the hour and save it to file.\n",
    "\n",
    "for hour in list(fname_dict):\n",
    "    print('Hour: ',hour)\n",
    "    interval = timediff_ave[hour]\n",
    "    fnames_within_hour = fname_dict[hour]\n",
    "\n",
    "    hour_accum = np.zeros((len(rr_retrieval_methods),300,300))\n",
    "    for fname in fnames_within_hour:\n",
    "        print(fname+':',end='')\n",
    "\n",
    "        # get local time of radar\n",
    "        fname_ = fname.rsplit('/',1)[-1].strip('.nc')\n",
    "        dtime_utc = dt.datetime.strptime(fname_,'radar_KLOT_%Y%m%d_%H%M%S')\n",
    "        dtime_utc = pytz.utc.localize(dtime_utc)\n",
    "\n",
    "        # read to radar object using pyart\n",
    "        radar = pyart.io.read_cfradial(os.path.join(path_radarfiles,fname))\n",
    "\n",
    "#         # Mask out last 10 gates of each ray, this removes the \"ring\" around the radar.\n",
    "#         radar.fields[method]['data'][:, -10:] = np.ma.masked\n",
    "\n",
    "        gatefilter = pyart.filters.GateFilter(radar)\n",
    "        gatefilter.exclude_transition()\n",
    "        gatefilter.exclude_masked('reflectivity')\n",
    "\n",
    "        # perform Cartesian mapping, limit to the reflectivity field.\n",
    "        grid = pyart.map.grid_from_radars(\n",
    "            [radar], gatefilters=[gatefilter],\n",
    "            grid_shape=(1, 300, 300),\n",
    "            grid_limits=((2000, 2000), (-123000.0, 123000.0), (-123000.0, 123000.0)),\n",
    "            )\n",
    "\n"
   ]
  },
  {
   "cell_type": "markdown",
   "metadata": {},
   "source": [
    "print(radar.metadata)"
   ]
  },
  {
   "cell_type": "code",
   "execution_count": 8,
   "metadata": {},
   "outputs": [
    {
     "name": "stdout",
     "output_type": "stream",
     "text": [
      "{'Conventions': 'CF/Radial instrument_parameters', 'version': '1.3', 'title': '', 'institution': '', 'references': '', 'source': '', 'comment': '', 'instrument_name': 'KLOT', 'original_container': 'NEXRAD Level II', 'vcp_pattern': 212, 'field_names': 'differential_phase, velocity, spectrum_width, reflectivity, differential_reflectivity, cross_correlation_ratio, corrected_reflectivity, normalized_coherent_power, unfolded_differential_phase, corrected_differential_phase, specific_differential_phase, attenuation, rainrate_from_kdp, rainrate_from_attenuation, rainrate, rainrate_z_WC, rainrate_z_RT, rainrate_z_MP', 'history': '', 'volume_number': 0, 'platform_type': 'fixed', 'instrument_type': 'radar', 'primary_axis': 'axis_z'}\n"
     ]
    }
   ],
   "source": [
    "print(radar.metadata)"
   ]
  },
  {
   "cell_type": "code",
   "execution_count": null,
   "metadata": {},
   "outputs": [],
   "source": []
  }
 ],
 "metadata": {
  "kernelspec": {
   "display_name": "Python 3",
   "language": "python",
   "name": "python3"
  },
  "language_info": {
   "codemirror_mode": {
    "name": "ipython",
    "version": 3
   },
   "file_extension": ".py",
   "mimetype": "text/x-python",
   "name": "python",
   "nbconvert_exporter": "python",
   "pygments_lexer": "ipython3",
   "version": "3.9.4"
  }
 },
 "nbformat": 4,
 "nbformat_minor": 2
}
